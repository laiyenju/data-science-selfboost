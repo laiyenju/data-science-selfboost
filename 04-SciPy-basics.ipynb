{
 "cells": [
  {
   "cell_type": "markdown",
   "id": "timely-choir",
   "metadata": {},
   "source": [
    "# 04 SciPy Basics\n",
    "\n",
    "- 矩陣運算：反矩陣\n",
    "- 特徵值\n",
    "- 特徵向量\n",
    "- 最佳化"
   ]
  },
  {
   "cell_type": "code",
   "execution_count": 3,
   "id": "square-showcase",
   "metadata": {},
   "outputs": [],
   "source": [
    "import scipy as sp\n",
    "import numpy as np\n",
    "import scipy.linalg as linalg\n",
    "from scipy.optimize import minimize_scalar"
   ]
  },
  {
   "cell_type": "code",
   "execution_count": 6,
   "id": "photographic-seven",
   "metadata": {},
   "outputs": [
    {
     "name": "stdout",
     "output_type": "stream",
     "text": [
      "行列式計算：  -4.0\n"
     ]
    }
   ],
   "source": [
    "matrix = np.array([[1, -1, -1], [-1, 1, -1], [-1, -1, 1]])\n",
    "print('行列式計算： ', linalg.det(matrix))"
   ]
  },
  {
   "cell_type": "code",
   "execution_count": null,
   "id": "national-cruise",
   "metadata": {},
   "outputs": [],
   "source": []
  }
 ],
 "metadata": {
  "kernelspec": {
   "display_name": "Python 3",
   "language": "python",
   "name": "python3"
  },
  "language_info": {
   "codemirror_mode": {
    "name": "ipython",
    "version": 3
   },
   "file_extension": ".py",
   "mimetype": "text/x-python",
   "name": "python",
   "nbconvert_exporter": "python",
   "pygments_lexer": "ipython3",
   "version": "3.9.1"
  }
 },
 "nbformat": 4,
 "nbformat_minor": 5
}
