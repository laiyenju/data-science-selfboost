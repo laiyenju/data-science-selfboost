{
 "cells": [
  {
   "cell_type": "markdown",
   "id": "cleared-lawsuit",
   "metadata": {},
   "source": [
    "# 02 NumPy Basics"
   ]
  },
  {
   "cell_type": "markdown",
   "id": "current-english",
   "metadata": {},
   "source": [
    "- sort()\n",
    "- random()"
   ]
  },
  {
   "cell_type": "code",
   "execution_count": 1,
   "id": "norman-pressing",
   "metadata": {},
   "outputs": [],
   "source": [
    "import numpy as np"
   ]
  },
  {
   "cell_type": "code",
   "execution_count": 2,
   "id": "dressed-flesh",
   "metadata": {},
   "outputs": [
    {
     "data": {
      "text/plain": [
       "'%.3f'"
      ]
     },
     "execution_count": 2,
     "metadata": {},
     "output_type": "execute_result"
    }
   ],
   "source": [
    "#use magic command to set the float .3f\n",
    "%precision 3"
   ]
  },
  {
   "cell_type": "markdown",
   "id": "bizarre-nickel",
   "metadata": {},
   "source": [
    "## NumPy 亂數\n",
    "使用 NumPy 的亂數功能 `random()`，建議先指定「種子」，作為之後驗證資料所用。"
   ]
  },
  {
   "cell_type": "code",
   "execution_count": 11,
   "id": "smaller-fairy",
   "metadata": {},
   "outputs": [
    {
     "name": "stdout",
     "output_type": "stream",
     "text": [
      "[ 6  9 19 19 22  6 19  6  7 34]\n",
      "[  6 466  19   6   2   7  34   9   8  39]\n"
     ]
    }
   ],
   "source": [
    "#指定種子為0\n",
    "np.random.seed(0)\n",
    "\n",
    "data = np.array([9,2,7,19,34,6,39,22,8,6,466])\n",
    "\n",
    "#隨機取出10個，允許取出重複元素\n",
    "print(np.random.choice(data, 10))\n",
    "\n",
    "#隨機取出10個，不允許取出重複元素\n",
    "print(np.random.choice(data, 10, replace = False))"
   ]
  },
  {
   "cell_type": "code",
   "execution_count": 15,
   "id": "nasty-franchise",
   "metadata": {},
   "outputs": [
    {
     "name": "stdout",
     "output_type": "stream",
     "text": [
      "[  6   9  19  19  22   6  19   6   7  34  22  39   8   8 466   2  39  22\n",
      "  22   8]\n",
      "[  7  39  22   6   9  19  34 466   8   6]\n"
     ]
    }
   ],
   "source": [
    "#指定種子為4\n",
    "np.random.seed(0)\n",
    "\n",
    "data = np.array([9,2,7,19,34,6,39,22,8,6,466])\n",
    "\n",
    "#隨機取出10個，允許取出重複元素\n",
    "print(np.random.choice(data, 20))\n",
    "\n",
    "#隨機取出10個，不允許取出重複元素\n",
    "print(np.random.choice(data, 10, replace = False))"
   ]
  },
  {
   "cell_type": "markdown",
   "id": "strategic-pendant",
   "metadata": {},
   "source": [
    "## NumPy 矩陣\n",
    "\n",
    "1. 使用 `reshpae(行數,列數)` 產生矩陣，需注意的是矩陣乘法為 `dot()`。\n",
    "2. `np.zeros` 自動產生全為0的矩陣、`np.ones` 自動產生全為1的矩陣。"
   ]
  },
  {
   "cell_type": "code",
   "execution_count": 18,
   "id": "experimental-puzzle",
   "metadata": {},
   "outputs": [
    {
     "name": "stdout",
     "output_type": "stream",
     "text": [
      "[[ 0  1  2  3]\n",
      " [ 4  5  6  7]\n",
      " [ 8  9 10 11]\n",
      " [12 13 14 15]]\n"
     ]
    }
   ],
   "source": [
    "#先用 arange() 產生array，再以 reshape() 產生矩陣\n",
    "array1 = np.arange(16).reshape(4,4)\n",
    "print(array1)"
   ]
  },
  {
   "cell_type": "code",
   "execution_count": 20,
   "id": "accessory-detroit",
   "metadata": {},
   "outputs": [
    {
     "name": "stdout",
     "output_type": "stream",
     "text": [
      "[[ 0  1  2  3]\n",
      " [ 4  5  6  7]\n",
      " [ 8  9 10 11]\n",
      " [12 13 14 15]]\n",
      "The result:  [[ 56  62  68  74]\n",
      " [152 174 196 218]\n",
      " [248 286 324 362]\n",
      " [344 398 452 506]]\n"
     ]
    }
   ],
   "source": [
    "array2 = np.arange(16).reshape(4,4)\n",
    "print(array2)\n",
    "\n",
    "#兩矩陣相乘\n",
    "result = np.dot(array1,array2)\n",
    "print('The result: ', result)"
   ]
  },
  {
   "cell_type": "code",
   "execution_count": 21,
   "id": "fuzzy-lewis",
   "metadata": {},
   "outputs": [
    {
     "name": "stdout",
     "output_type": "stream",
     "text": [
      "[[  0   1   4   9]\n",
      " [ 16  25  36  49]\n",
      " [ 64  81 100 121]\n",
      " [144 169 196 225]]\n"
     ]
    }
   ],
   "source": [
    "#矩陣中個元素相乘\n",
    "print(array1*array2)"
   ]
  },
  {
   "cell_type": "code",
   "execution_count": 23,
   "id": "joint-quick",
   "metadata": {},
   "outputs": [
    {
     "name": "stdout",
     "output_type": "stream",
     "text": [
      "[[0 0 0]\n",
      " [0 0 0]]\n",
      "[[1. 1. 1.]\n",
      " [1. 1. 1.]]\n"
     ]
    }
   ],
   "source": [
    "#產生全為0或1的矩陣\n",
    "print(np.zeros((2, 3), dtype = np.int64))\n",
    "print(np.ones((2, 3), dtype = np.float64))"
   ]
  },
  {
   "cell_type": "markdown",
   "id": "presidential-combining",
   "metadata": {},
   "source": [
    "## Question and Answer"
   ]
  },
  {
   "cell_type": "code",
   "execution_count": 26,
   "id": "sound-indian",
   "metadata": {},
   "outputs": [
    {
     "name": "stdout",
     "output_type": "stream",
     "text": [
      "1275\n"
     ]
    }
   ],
   "source": [
    "#Q2-1\n",
    "new_array = np.array([i for i in range(1, 51)])\n",
    "array_sum = sum(new_array)\n",
    "print(array_sum)"
   ]
  },
  {
   "cell_type": "code",
   "execution_count": 28,
   "id": "boolean-mandate",
   "metadata": {},
   "outputs": [
    {
     "name": "stdout",
     "output_type": "stream",
     "text": [
      "the matrix is:  [[ 1.764  0.4    0.979  2.241  1.868]\n",
      " [-0.977  0.95  -0.151 -0.103  0.411]]\n",
      "the minimum is:  -0.977277879876411\n",
      "the maximum is:  2.240893199201458\n",
      "the sum is:  7.380231707288347\n"
     ]
    }
   ],
   "source": [
    "#Q2-2\n",
    "np.random.seed(0)\n",
    "new_matrix = np.random.randn(10).reshape(2, 5)\n",
    "print('the matrix is: ', new_matrix)\n",
    "print('the minimum is: ', new_matrix.min())\n",
    "print('the maximum is: ', new_matrix.max())\n",
    "print('the sum is: ', new_matrix.sum())"
   ]
  },
  {
   "cell_type": "code",
   "execution_count": 29,
   "id": "adult-briefing",
   "metadata": {},
   "outputs": [
    {
     "name": "stdout",
     "output_type": "stream",
     "text": [
      "[[45 45 45 45 45]\n",
      " [45 45 45 45 45]\n",
      " [45 45 45 45 45]\n",
      " [45 45 45 45 45]\n",
      " [45 45 45 45 45]]\n"
     ]
    }
   ],
   "source": [
    "#Q2-3\n",
    "three_matrix = np.ones((5, 5), dtype='int') * 3\n",
    "print(np.dot(three_matrix, three_matrix))"
   ]
  },
  {
   "cell_type": "code",
   "execution_count": null,
   "id": "parental-increase",
   "metadata": {},
   "outputs": [],
   "source": []
  }
 ],
 "metadata": {
  "kernelspec": {
   "display_name": "Python 3",
   "language": "python",
   "name": "python3"
  },
  "language_info": {
   "codemirror_mode": {
    "name": "ipython",
    "version": 3
   },
   "file_extension": ".py",
   "mimetype": "text/x-python",
   "name": "python",
   "nbconvert_exporter": "python",
   "pygments_lexer": "ipython3",
   "version": "3.9.1"
  }
 },
 "nbformat": 4,
 "nbformat_minor": 5
}
